{
 "cells": [
  {
   "attachments": {},
   "cell_type": "markdown",
   "metadata": {},
   "source": [
    "<h1 align=center style=\"line-height:200%;font-family:vazir;color:#0099cc\">\n",
    "<font face=\"vazir\" color=\"#0099cc\">\n",
    "بورس ایران\n",
    "</font>\n",
    "</h1>"
   ]
  },
  {
   "attachments": {},
   "cell_type": "markdown",
   "metadata": {},
   "source": [
    "<p dir=rtl style=\"direction: rtl; text-align: justify; line-height:200%; font-family:vazir; font-size:medium\">\n",
    "<font face=\"vazir\" size=3>\n",
    "در این تمرین قصد داریم با سری‌های زمانی و توابع کمکی کتابخانه‌ی <code>pandas</code> برای کار با داده‌های زمانی آشنا شویم.\n",
    "</font>\n",
    "</p>"
   ]
  },
  {
   "cell_type": "code",
   "execution_count": 82,
   "metadata": {},
   "outputs": [],
   "source": [
    "import numpy as np\n",
    "import pandas as pd\n",
    "from datetime import datetime"
   ]
  },
  {
   "attachments": {},
   "cell_type": "markdown",
   "metadata": {},
   "source": [
    "<p dir=rtl style=\"direction: rtl; text-align: justify; line-height:200%; font-family:vazir; font-size:medium\">\n",
    "<font face=\"vazir\" size=3>\n",
    "ابتدا داده‌ها را از فایل <code>stock_data.csv</code> خوانده و چند ردیف اول آن را مشاهده کنید تا با ویژگی‌های (features) این جدول بیشتر آشنا شوید.\n",
    "</font>\n",
    "</p>"
   ]
  },
  {
   "cell_type": "code",
   "execution_count": 83,
   "metadata": {},
   "outputs": [
    {
     "name": "stdout",
     "output_type": "stream",
     "text": [
      "<class 'pandas.core.frame.DataFrame'>\n",
      "RangeIndex: 67505 entries, 0 to 67504\n",
      "Data columns (total 14 columns):\n",
      " #   Column             Non-Null Count  Dtype  \n",
      "---  ------             --------------  -----  \n",
      " 0   Unnamed: 0         67505 non-null  int64  \n",
      " 1   تاریخ              67505 non-null  object \n",
      " 2   اولین قیمت         67505 non-null  float64\n",
      " 3   نماد               67505 non-null  object \n",
      " 4   نام                67505 non-null  object \n",
      " 5   قیمت پایانی        67505 non-null  float64\n",
      " 6   قیمت آخرین معامله  67505 non-null  float64\n",
      " 7   تعداد معاملات      67505 non-null  int64  \n",
      " 8   حجم                67505 non-null  int64  \n",
      " 9   ارزش               67505 non-null  float64\n",
      " 10  کمترین قیمت        67505 non-null  float64\n",
      " 11  بیشترین قیمت       67505 non-null  float64\n",
      " 12  قیمت دیروز         67505 non-null  float64\n",
      " 13  تغییر              67505 non-null  float64\n",
      "dtypes: float64(8), int64(3), object(3)\n",
      "memory usage: 7.2+ MB\n"
     ]
    }
   ],
   "source": [
    "stock_df = pd.read_csv('stock_data.csv')\n",
    "stock_df.info()"
   ]
  },
  {
   "attachments": {},
   "cell_type": "markdown",
   "metadata": {},
   "source": [
    "<p dir=rtl style=\"direction: rtl; text-align: justify; line-height:200%; font-family:vazir; font-size:medium\">\n",
    "<font face=\"vazir\" size=3>\n",
    "ستون اول این جدول احتمالاً مربوط به <code>id</code> معاملات می‌باشد. با توجه به اینکه <code>index</code> در این مسئله اطلاعات خاصی به ما نمی‌دهد آن را حذف کنید.\n",
    "</font>\n",
    "</p>"
   ]
  },
  {
   "cell_type": "code",
   "execution_count": 84,
   "metadata": {},
   "outputs": [
    {
     "name": "stdout",
     "output_type": "stream",
     "text": [
      "<class 'pandas.core.frame.DataFrame'>\n",
      "RangeIndex: 67505 entries, 0 to 67504\n",
      "Data columns (total 13 columns):\n",
      " #   Column             Non-Null Count  Dtype  \n",
      "---  ------             --------------  -----  \n",
      " 0   تاریخ              67505 non-null  object \n",
      " 1   اولین قیمت         67505 non-null  float64\n",
      " 2   نماد               67505 non-null  object \n",
      " 3   نام                67505 non-null  object \n",
      " 4   قیمت پایانی        67505 non-null  float64\n",
      " 5   قیمت آخرین معامله  67505 non-null  float64\n",
      " 6   تعداد معاملات      67505 non-null  int64  \n",
      " 7   حجم                67505 non-null  int64  \n",
      " 8   ارزش               67505 non-null  float64\n",
      " 9   کمترین قیمت        67505 non-null  float64\n",
      " 10  بیشترین قیمت       67505 non-null  float64\n",
      " 11  قیمت دیروز         67505 non-null  float64\n",
      " 12  تغییر              67505 non-null  float64\n",
      "dtypes: float64(8), int64(2), object(3)\n",
      "memory usage: 6.7+ MB\n"
     ]
    }
   ],
   "source": [
    "stock_df.drop('Unnamed: 0', axis=1, inplace=True)\n",
    "stock_df.info()"
   ]
  },
  {
   "attachments": {},
   "cell_type": "markdown",
   "metadata": {},
   "source": [
    "<p dir=rtl style=\"direction: rtl; text-align: justify; line-height:200%; font-family:vazir; font-size:medium\">\n",
    "<font face=\"vazir\" size=3>\n",
    "با توجه به اینکه کد زدن با نام‌های فارسی بعضاً ایجاد مشکل می‌کند، در همین ابتدای کار نام ستون‌ها را به معادل انگلیسی آن‌ها تغییر دهید.\n",
    "</font>\n",
    "</p>\n",
    "\n",
    "<p dir=rtl style=\"direction: rtl; text-align: justify; line-height:200%; font-family:vazir; font-size:medium\">\n",
    "<font face=\"vazir\" size=3 color=\"red\">\n",
    "توجه:\n",
    "</font>\n",
    "<font face=\"vazir\" size=3>\n",
    "     حتما به صفت\n",
    "    (attribute) <code>inplace</code>\n",
    "    در این متد دقت کنید در غیر این‌صورت دیتافریم بازگشتی را در متغیری دیگر ذخیره کنید. (در صورتی‌که پس از اجرای سلول زیر بدون درخواست پرینت جدول خود را در خروجی مشاهده کنید به معنی این است که عملیات را ذخیره نکرده‌اید)\n",
    "</font>\n",
    "</p>"
   ]
  },
  {
   "cell_type": "code",
   "execution_count": 85,
   "metadata": {},
   "outputs": [
    {
     "name": "stdout",
     "output_type": "stream",
     "text": [
      "<class 'pandas.core.frame.DataFrame'>\n",
      "RangeIndex: 67505 entries, 0 to 67504\n",
      "Data columns (total 13 columns):\n",
      " #   Column           Non-Null Count  Dtype  \n",
      "---  ------           --------------  -----  \n",
      " 0   str_date         67505 non-null  object \n",
      " 1   Open             67505 non-null  float64\n",
      " 2   Symbol           67505 non-null  object \n",
      " 3   Name             67505 non-null  object \n",
      " 4   Close            67505 non-null  float64\n",
      " 5   Last Trade       67505 non-null  float64\n",
      " 6   Quantity         67505 non-null  int64  \n",
      " 7   Volume           67505 non-null  int64  \n",
      " 8   Value            67505 non-null  float64\n",
      " 9   Min              67505 non-null  float64\n",
      " 10  Max              67505 non-null  float64\n",
      " 11  Yesterday Price  67505 non-null  float64\n",
      " 12  Change           67505 non-null  float64\n",
      "dtypes: float64(8), int64(2), object(3)\n",
      "memory usage: 6.7+ MB\n"
     ]
    }
   ],
   "source": [
    "column_names = {\n",
    "    \"تاریخ\":\"str_date\",\n",
    "    \"اولین قیمت\":\"Open\",\n",
    "    \"نماد\":\"Symbol\",\n",
    "    \"نام\":\"Name\",\n",
    "    \"قیمت پایانی\":\"Close\",\n",
    "    \"قیمت آخرین معامله\":\"Last Trade\",\n",
    "    \"تعداد معاملات\":\"Quantity\",\n",
    "    \"حجم\":\"Volume\",\n",
    "    \"ارزش\":\"Value\",\n",
    "    \"کمترین قیمت\":\"Min\",\n",
    "    \"بیشترین قیمت\":\"Max\",\n",
    "    \"قیمت دیروز\":\"Yesterday Price\",\n",
    "    \"تغییر\":\"Change\"\n",
    "}\n",
    "\n",
    "stock_df.rename(columns = column_names, inplace=True)\n",
    "stock_df.info()"
   ]
  },
  {
   "attachments": {},
   "cell_type": "markdown",
   "metadata": {},
   "source": [
    "<h2 align=right style=\"line-height:200%;font-family:vazir;color:#0099cc\">\n",
    "<font face=\"vazir\" color=\"#0099cc\">\n",
    "تغییر نوع ستون تاریخ\n",
    "</font>\n",
    "</h2>\n",
    "\n",
    "<p dir=rtl style=\"direction: rtl; text-align: justify; line-height:200%; font-family:vazir; font-size:medium\">\n",
    "<font face=\"vazir\" size=3>\n",
    "اگر به نوع متغیرهای موجود در جدول نگاهی بی‌اندازید، مشاهده می‌کنید که نوع ستون <code>str_date</code> از نوع کلی <code>object</code> می‌باشد، در حالی‌که اگر این ستون از نوع <code>datetime</code> باشد انعطاف‌پذیری بسیار زیادی در کار با داده‌های زمانی این جدول به دست خواهد داد. برای تبدیل ستون <code>str_date</code> از رشته به <code>datetime</code> از تابع کمکی <code>to_datetime</code> استفاده کرده و نام ستون تبدیل‌یافته را <code>date</code> بگذارید. نوع این ستون را با نوع اولیه‌ی آن مقایسه کنید.\n",
    "</font>\n",
    "</p>\n",
    "\n",
    "<p dir=rtl style=\"direction: rtl; text-align: justify; line-height:200%; font-family:vazir; font-size:medium\">\n",
    "<font face=\"vazir\" size=3 color=\"orange\">\n",
    "نکته:\n",
    "</font>\n",
    "<font face=\"vazir\" size=3>\n",
    "   گاهی اوقات شاید لازم باشد فرمت رشته را برای تبدیل به نوع زمانی تغییر دهید ولی در این مثال نیازی به این کار نیست.\n",
    "</font>\n",
    "</p>"
   ]
  },
  {
   "cell_type": "code",
   "execution_count": 86,
   "metadata": {},
   "outputs": [
    {
     "name": "stdout",
     "output_type": "stream",
     "text": [
      "<class 'pandas.core.frame.DataFrame'>\n",
      "RangeIndex: 67505 entries, 0 to 67504\n",
      "Data columns (total 14 columns):\n",
      " #   Column           Non-Null Count  Dtype         \n",
      "---  ------           --------------  -----         \n",
      " 0   str_date         67505 non-null  object        \n",
      " 1   Open             67505 non-null  float64       \n",
      " 2   Symbol           67505 non-null  object        \n",
      " 3   Name             67505 non-null  object        \n",
      " 4   Close            67505 non-null  float64       \n",
      " 5   Last Trade       67505 non-null  float64       \n",
      " 6   Quantity         67505 non-null  int64         \n",
      " 7   Volume           67505 non-null  int64         \n",
      " 8   Value            67505 non-null  float64       \n",
      " 9   Min              67505 non-null  float64       \n",
      " 10  Max              67505 non-null  float64       \n",
      " 11  Yesterday Price  67505 non-null  float64       \n",
      " 12  Change           67505 non-null  float64       \n",
      " 13  date             67505 non-null  datetime64[ns]\n",
      "dtypes: datetime64[ns](1), float64(8), int64(2), object(3)\n",
      "memory usage: 7.2+ MB\n"
     ]
    }
   ],
   "source": [
    "stock_df[\"date\"]  =  pd.to_datetime(stock_df[\"str_date\"])\n",
    "stock_df.info()"
   ]
  },
  {
   "cell_type": "code",
   "execution_count": 87,
   "metadata": {},
   "outputs": [
    {
     "name": "stdout",
     "output_type": "stream",
     "text": [
      "نوع متغیر پیش از تغییر: object \n",
      "\n",
      "نوع متغیر بعد از تغییر: datetime64[ns]\n"
     ]
    }
   ],
   "source": [
    "print(\"نوع متغیر پیش از تغییر:\", stock_df.dtypes[\"str_date\"],\"\\n\")\n",
    "print(\"نوع متغیر بعد از تغییر:\", stock_df.dtypes[\"date\"])"
   ]
  },
  {
   "cell_type": "code",
   "execution_count": 88,
   "metadata": {},
   "outputs": [
    {
     "data": {
      "text/plain": [
       "str_date                   object\n",
       "Open                      float64\n",
       "Symbol                     object\n",
       "Name                       object\n",
       "Close                     float64\n",
       "Last Trade                float64\n",
       "Quantity                    int64\n",
       "Volume                      int64\n",
       "Value                     float64\n",
       "Min                       float64\n",
       "Max                       float64\n",
       "Yesterday Price           float64\n",
       "Change                    float64\n",
       "date               datetime64[ns]\n",
       "dtype: object"
      ]
     },
     "execution_count": 88,
     "metadata": {},
     "output_type": "execute_result"
    }
   ],
   "source": [
    "stock_df.dtypes"
   ]
  },
  {
   "attachments": {},
   "cell_type": "markdown",
   "metadata": {},
   "source": [
    "<h2 dir=rtl align=right style=\"line-height:200%;font-family:vazir;color:#0099cc\">\n",
    "<font face=\"vazir\" color=\"#0099cc\">\n",
    "ستون تاریخ به عنوان <code>index</code>\n",
    "</font>\n",
    "</h2>\n",
    "\n",
    "<p dir=rtl style=\"direction: rtl; text-align: justify; line-height:200%; font-family:vazir; font-size:medium\">\n",
    "<font face=\"vazir\" size=3>\n",
    "حال که نوع ستون تاریخ به <code>datetime</code> تبدیل شده است،‌می‌توان مزایای تبدیل این ستون به <code>index</code> در یک دیتافریم را بررسی کرد. برای این کار از متد <code>set_index</code> استفاده کنید.\n",
    "</font>\n",
    "</p>\n",
    "\n",
    "<p dir=rtl style=\"direction: rtl; text-align: justify; line-height:200%; font-family:vazir; font-size:medium\">\n",
    "<font face=\"vazir\" size=3 color=\"red\">\n",
    "توجه:\n",
    "</font>\n",
    "<font face=\"vazir\" size=3>\n",
    "     حتما به صفت (attribute) <code>inplace</code> در این متد دقت کنید در غیر این‌صورت دیتافریم بازگشتی را در متغیری دیگر ذخیره کنید.\n",
    "</font>\n",
    "</p>"
   ]
  },
  {
   "cell_type": "code",
   "execution_count": 89,
   "metadata": {},
   "outputs": [
    {
     "name": "stdout",
     "output_type": "stream",
     "text": [
      "<class 'pandas.core.frame.DataFrame'>\n",
      "DatetimeIndex: 67505 entries, 2020-04-18 to 2019-06-25\n",
      "Data columns (total 13 columns):\n",
      " #   Column           Non-Null Count  Dtype         \n",
      "---  ------           --------------  -----         \n",
      " 0   Open             67505 non-null  float64       \n",
      " 1   Symbol           67505 non-null  object        \n",
      " 2   Name             67505 non-null  object        \n",
      " 3   Close            67505 non-null  float64       \n",
      " 4   Last Trade       67505 non-null  float64       \n",
      " 5   Quantity         67505 non-null  int64         \n",
      " 6   Volume           67505 non-null  int64         \n",
      " 7   Value            67505 non-null  float64       \n",
      " 8   Min              67505 non-null  float64       \n",
      " 9   Max              67505 non-null  float64       \n",
      " 10  Yesterday Price  67505 non-null  float64       \n",
      " 11  Change           67505 non-null  float64       \n",
      " 12  date             67505 non-null  datetime64[ns]\n",
      "dtypes: datetime64[ns](1), float64(8), int64(2), object(2)\n",
      "memory usage: 7.2+ MB\n"
     ]
    }
   ],
   "source": [
    "stock_df.set_index(stock_df['date'], inplace=True)\n",
    "stock_df.drop('str_date', axis=1, inplace=True)\n",
    "stock_df.info()"
   ]
  },
  {
   "attachments": {},
   "cell_type": "markdown",
   "metadata": {},
   "source": [
    "<p dir=rtl style=\"direction: rtl; text-align: justify; line-height:200%; font-family:vazir; font-size:medium\">\n",
    "<font face=\"vazir\" size=3>\n",
    "در ادامه ۱۰۰ داده‌ی اول جدول را در فایلی به نام <code>formatted.csv</code> ذخیره کنید.\n",
    "<br>\n",
    "سپس به‌‌صورت خیلی ساده بررسی می‌کنیم آیا تمامی تغییرات موردنظر به‌درستی انجام گرفته است یا خیر. درصورتی‌که در خروجی <code>assert</code>،‌ خطایی چاپ نشود یعنی پاسخ صحیح بوده و می‌توانید نت‌بوک را ادامه دهید.\n",
    "</font>\n",
    "</p>"
   ]
  },
  {
   "cell_type": "code",
   "execution_count": 90,
   "metadata": {},
   "outputs": [],
   "source": [
    "stock_df.head(100).to_csv(\"formatted.csv\")"
   ]
  },
  {
   "cell_type": "code",
   "execution_count": 91,
   "metadata": {},
   "outputs": [],
   "source": [
    "# basic assertion on dataframe reformation\n",
    "formatted_df = pd.read_csv(\"formatted.csv\", index_col=\"date\", parse_dates=[\"date\"])\n",
    "assert len(formatted_df.columns) == 13\n",
    "assert \"Volume\" in formatted_df.columns\n",
    "assert formatted_df.index.name == \"date\""
   ]
  },
  {
   "cell_type": "code",
   "execution_count": 92,
   "metadata": {},
   "outputs": [],
   "source": [
    "assert formatted_df.index.dtype != object"
   ]
  },
  {
   "attachments": {},
   "cell_type": "markdown",
   "metadata": {},
   "source": [
    "<p dir=rtl style=\"direction: rtl; text-align: justify; line-height:200%; font-family:vazir; font-size:medium\">\n",
    "<font face=\"vazir\" size=3>\n",
    "یکی از مهم‌ترین مزایای این کار این است که می‌توانید به‌راحتی اطلاعات جدول را در هر بازه‌ی زمانی فیلتر کنید.\n",
    "</font>\n",
    "</p>"
   ]
  },
  {
   "cell_type": "code",
   "execution_count": 93,
   "metadata": {},
   "outputs": [
    {
     "name": "stdout",
     "output_type": "stream",
     "text": [
      "date\n",
      "2020-03-30      401.0\n",
      "2020-03-30     3354.0\n",
      "2020-03-30      717.0\n",
      "2020-03-30      265.0\n",
      "2020-03-30      261.0\n",
      "               ...   \n",
      "2020-03-01   -50609.0\n",
      "2020-03-01   -74412.0\n",
      "2020-03-01   -10056.0\n",
      "2020-03-01   -10147.0\n",
      "2020-03-01   -20677.0\n",
      "Name: Change, Length: 6323, dtype: float64\n"
     ]
    },
    {
     "name": "stderr",
     "output_type": "stream",
     "text": [
      "C:\\Users\\Hossein\\AppData\\Local\\Temp\\ipykernel_18592\\1443128730.py:2: FutureWarning: Indexing a DataFrame with a datetimelike index using a single string to slice the rows, like `frame[string]`, is deprecated and will be removed in a future version. Use `frame.loc[string]` instead.\n",
      "  print(stock_df[\"2020-03\"][\"Change\"])\n"
     ]
    }
   ],
   "source": [
    "#فیلتر بر اساس سال و ماه\n",
    "print(stock_df[\"2020-03\"][\"Change\"])"
   ]
  },
  {
   "attachments": {},
   "cell_type": "markdown",
   "metadata": {},
   "source": [
    "<p dir=rtl style=\"direction: rtl; text-align: justify; line-height:200%; font-family:vazir; font-size:medium\">\n",
    "<font face=\"vazir\" size=3>\n",
    "می‌توانید در یک بازه‌ی زمانی،‌ اطلاعات آماری دلخواه را محاسبه کنید.\n",
    "</font>\n",
    "</p>"
   ]
  },
  {
   "cell_type": "code",
   "execution_count": 94,
   "metadata": {},
   "outputs": [
    {
     "data": {
      "text/plain": [
       "34961.48281245865"
      ]
     },
     "execution_count": 94,
     "metadata": {},
     "output_type": "execute_result"
    }
   ],
   "source": [
    "stock_df[\"2019-10-01\":\"2020-03-10\"].Close.mean()"
   ]
  },
  {
   "attachments": {},
   "cell_type": "markdown",
   "metadata": {},
   "source": [
    "<p dir=rtl style=\"direction: rtl; text-align: justify; line-height:200%; font-family:vazir; font-size:medium\">\n",
    "<font face=\"vazir\" size=3>\n",
    "می‌توانید به‌راحتی داده‌های خود را در هر بازه‌ی زمانی\n",
    "<a href=\"https://pandas.pydata.org/pandas-docs/stable/reference/api/pandas.DataFrame.resample.html\">نمونه‌گیری (resample)</a>\n",
    "کنید. یعنی که در دسته‌های دلخواه (ماهیانه،‌ سه‌ماهه، ...) مرتب کرده و روی آن‌ها تحلیل انجام دهید.\n",
    "<br>\n",
    "لیستی از حروفی که نمایان‌گر بازه‌های زمانی در جدول <code>pandas</code> هستند را می‌توانید از\n",
    "<a href=\"https://pandas.pydata.org/pandas-docs/stable/user_guide/timeseries.html#offset-aliases\">اینجا</a>\n",
    "مشاهده کنید.\n",
    "<br>\n",
    "    در مثال زیر داده‌ها که تقریباً با نرخ یک‌روزه گرفته شده بودند، به کمک متد <code>resample</code> با نرخ ماهیانه نمونه‌برداری شده‌اند، پس از اینکه داده‌ها در دسته‌های جدید (bins)\n",
    "    قرار گرفتند بایستی تصمیم بگیرید که با چه متدی داده‌های موجود در این دسته‌ها را یکی کنید، می‌توانید میانگین آن‌ها را محاسبه کنید یا جمع آن‌ها را محاسبه کنید. در اینجا میانگین داده‌ها محاسبه شده است.\n",
    "</font>\n",
    "</p>"
   ]
  },
  {
   "cell_type": "code",
   "execution_count": 95,
   "metadata": {},
   "outputs": [
    {
     "data": {
      "text/plain": [
       "date\n",
       "2019-06-30    18337.082140\n",
       "2019-07-31    20619.805267\n",
       "2019-08-31    22187.353722\n",
       "2019-09-30    29037.318703\n",
       "2019-10-31    28401.782315\n",
       "2019-11-30    29212.455675\n",
       "2019-12-31    33173.452610\n",
       "2020-01-31    35459.489550\n",
       "2020-02-29    42752.951393\n",
       "2020-03-31    46947.100111\n",
       "2020-04-30    47487.956483\n",
       "Freq: M, Name: Close, dtype: float64"
      ]
     },
     "execution_count": 95,
     "metadata": {},
     "output_type": "execute_result"
    }
   ],
   "source": [
    "#بر اساس سال\n",
    "stock_df['Close'].resample('M').mean()"
   ]
  },
  {
   "attachments": {},
   "cell_type": "markdown",
   "metadata": {},
   "source": [
    "<p dir=rtl style=\"direction: rtl; text-align: justify; line-height:200%; font-family:vazir; font-size:medium\">\n",
    "<font face=\"vazir\" size=3>\n",
    "کتابخانه‌ی <code>pandas</code> متدهای کمکی‌ای برای استفاده از کتابخانه‌ی <code>matplotlib</code> در ترسیم دیتافریم‌ها دارد که می‌توان به کمک آن‌ها به‌راحتی نمودارهای ساده‌ای را ترسیم کرد.\n",
    "</font>\n",
    "</p>"
   ]
  },
  {
   "cell_type": "code",
   "execution_count": 96,
   "metadata": {},
   "outputs": [
    {
     "data": {
      "text/plain": [
       "<AxesSubplot:xlabel='date'>"
      ]
     },
     "execution_count": 96,
     "metadata": {},
     "output_type": "execute_result"
    },
    {
     "data": {
      "image/png": "[encoded data removed]",
      "text/plain": [
       "<Figure size 640x480 with 1 Axes>"
      ]
     },
     "metadata": {},
     "output_type": "display_data"
    }
   ],
   "source": [
    "stock_df['Close'].resample('M').mean().plot(kind='bar')"
   ]
  },
  {
   "attachments": {},
   "cell_type": "markdown",
   "metadata": {},
   "source": [
    "<p dir=rtl style=\"direction: rtl; text-align: justify; line-height:200%; font-family:vazir; font-size:medium\">\n",
    "<font face=\"vazir\" size=3>\n",
    "در این تمرین از شما می‌خواهیم ابتدا داده‌های ستون <code>Min</code> و <code>Max</code> را با نرخ ۱۰ روزه نمونه‌برداری کنید. سپس معاملاتی که در بازه‌های چهار ماهه‌ی آخر سال ۲۰۱۹ (یعنی از ۹-۲۰۱۹ تا ۱۲-۲۰۱۹) و سه ماهه‌ی اول سال ۲۰۲۰ (یعنی از ۱-۲۰۲۰ تا ۳-۲۰۲۰) هستند را فیلتر (استخراج) کنید و آن‌هایی که میانگین <code>Max</code> کمتر از ۳۵۰۰۰ و <code>Min</code> بیشتر از ۲۰۰۰۰ دارند را پیدا کنید.\n",
    "</font>\n",
    "</p>"
   ]
  },
  {
   "cell_type": "code",
   "execution_count": 97,
   "metadata": {},
   "outputs": [
    {
     "data": {
      "text/html": [
       "<div>\n",
       "<style scoped>\n",
       "    .dataframe tbody tr th:only-of-type {\n",
       "        vertical-align: middle;\n",
       "    }\n",
       "\n",
       "    .dataframe tbody tr th {\n",
       "        vertical-align: top;\n",
       "    }\n",
       "\n",
       "    .dataframe thead th {\n",
       "        text-align: right;\n",
       "    }\n",
       "</style>\n",
       "<table border=\"1\" class=\"dataframe\">\n",
       "  <thead>\n",
       "    <tr style=\"text-align: right;\">\n",
       "      <th></th>\n",
       "      <th>Min</th>\n",
       "      <th>Max</th>\n",
       "    </tr>\n",
       "    <tr>\n",
       "      <th>date</th>\n",
       "      <th></th>\n",
       "      <th></th>\n",
       "    </tr>\n",
       "  </thead>\n",
       "  <tbody>\n",
       "    <tr>\n",
       "      <th>2019-09-03</th>\n",
       "      <td>25513.802849</td>\n",
       "      <td>26337.174929</td>\n",
       "    </tr>\n",
       "    <tr>\n",
       "      <th>2019-09-13</th>\n",
       "      <td>28584.095449</td>\n",
       "      <td>29501.005236</td>\n",
       "    </tr>\n",
       "    <tr>\n",
       "      <th>2019-09-23</th>\n",
       "      <td>32993.918843</td>\n",
       "      <td>34038.522230</td>\n",
       "    </tr>\n",
       "    <tr>\n",
       "      <th>2019-10-03</th>\n",
       "      <td>29968.944497</td>\n",
       "      <td>30905.997154</td>\n",
       "    </tr>\n",
       "    <tr>\n",
       "      <th>2019-10-13</th>\n",
       "      <td>27654.362034</td>\n",
       "      <td>28598.031980</td>\n",
       "    </tr>\n",
       "    <tr>\n",
       "      <th>2019-10-23</th>\n",
       "      <td>24520.583274</td>\n",
       "      <td>25217.486180</td>\n",
       "    </tr>\n",
       "    <tr>\n",
       "      <th>2019-11-02</th>\n",
       "      <td>27563.924605</td>\n",
       "      <td>28337.823267</td>\n",
       "    </tr>\n",
       "    <tr>\n",
       "      <th>2019-11-12</th>\n",
       "      <td>28335.407980</td>\n",
       "      <td>29170.981678</td>\n",
       "    </tr>\n",
       "    <tr>\n",
       "      <th>2019-11-22</th>\n",
       "      <td>31614.932427</td>\n",
       "      <td>32420.005768</td>\n",
       "    </tr>\n",
       "    <tr>\n",
       "      <th>2019-12-12</th>\n",
       "      <td>31695.632536</td>\n",
       "      <td>32581.703349</td>\n",
       "    </tr>\n",
       "    <tr>\n",
       "      <th>2019-12-22</th>\n",
       "      <td>30834.123066</td>\n",
       "      <td>31768.486506</td>\n",
       "    </tr>\n",
       "    <tr>\n",
       "      <th>2020-01-01</th>\n",
       "      <td>34165.933978</td>\n",
       "      <td>34934.645987</td>\n",
       "    </tr>\n",
       "  </tbody>\n",
       "</table>\n",
       "</div>"
      ],
      "text/plain": [
       "                     Min           Max\n",
       "date                                  \n",
       "2019-09-03  25513.802849  26337.174929\n",
       "2019-09-13  28584.095449  29501.005236\n",
       "2019-09-23  32993.918843  34038.522230\n",
       "2019-10-03  29968.944497  30905.997154\n",
       "2019-10-13  27654.362034  28598.031980\n",
       "2019-10-23  24520.583274  25217.486180\n",
       "2019-11-02  27563.924605  28337.823267\n",
       "2019-11-12  28335.407980  29170.981678\n",
       "2019-11-22  31614.932427  32420.005768\n",
       "2019-12-12  31695.632536  32581.703349\n",
       "2019-12-22  30834.123066  31768.486506\n",
       "2020-01-01  34165.933978  34934.645987"
      ]
     },
     "execution_count": 97,
     "metadata": {},
     "output_type": "execute_result"
    }
   ],
   "source": [
    "result = stock_df[['Min','Max']].resample('10D').mean()\n",
    "result = result[\"2019-9\":\"2020-3\"]\n",
    "result = result[(result['Min']>20000) & (result['Max'] < 35000)]\n",
    "result"
   ]
  },
  {
   "cell_type": "code",
   "execution_count": 98,
   "metadata": {},
   "outputs": [
    {
     "data": {
      "text/html": [
       "<div>\n",
       "<style scoped>\n",
       "    .dataframe tbody tr th:only-of-type {\n",
       "        vertical-align: middle;\n",
       "    }\n",
       "\n",
       "    .dataframe tbody tr th {\n",
       "        vertical-align: top;\n",
       "    }\n",
       "\n",
       "    .dataframe thead th {\n",
       "        text-align: right;\n",
       "    }\n",
       "</style>\n",
       "<table border=\"1\" class=\"dataframe\">\n",
       "  <thead>\n",
       "    <tr style=\"text-align: right;\">\n",
       "      <th></th>\n",
       "      <th>Min</th>\n",
       "      <th>Max</th>\n",
       "    </tr>\n",
       "    <tr>\n",
       "      <th>date</th>\n",
       "      <th></th>\n",
       "      <th></th>\n",
       "    </tr>\n",
       "  </thead>\n",
       "  <tbody>\n",
       "    <tr>\n",
       "      <th>2019-09-03</th>\n",
       "      <td>25513.802849</td>\n",
       "      <td>26337.174929</td>\n",
       "    </tr>\n",
       "    <tr>\n",
       "      <th>2019-09-13</th>\n",
       "      <td>28584.095449</td>\n",
       "      <td>29501.005236</td>\n",
       "    </tr>\n",
       "    <tr>\n",
       "      <th>2019-09-23</th>\n",
       "      <td>32993.918843</td>\n",
       "      <td>34038.522230</td>\n",
       "    </tr>\n",
       "    <tr>\n",
       "      <th>2019-10-03</th>\n",
       "      <td>29968.944497</td>\n",
       "      <td>30905.997154</td>\n",
       "    </tr>\n",
       "    <tr>\n",
       "      <th>2019-10-13</th>\n",
       "      <td>27654.362034</td>\n",
       "      <td>28598.031980</td>\n",
       "    </tr>\n",
       "    <tr>\n",
       "      <th>2019-10-23</th>\n",
       "      <td>24520.583274</td>\n",
       "      <td>25217.486180</td>\n",
       "    </tr>\n",
       "    <tr>\n",
       "      <th>2019-11-02</th>\n",
       "      <td>27563.924605</td>\n",
       "      <td>28337.823267</td>\n",
       "    </tr>\n",
       "    <tr>\n",
       "      <th>2019-11-12</th>\n",
       "      <td>28335.407980</td>\n",
       "      <td>29170.981678</td>\n",
       "    </tr>\n",
       "    <tr>\n",
       "      <th>2019-11-22</th>\n",
       "      <td>31614.932427</td>\n",
       "      <td>32420.005768</td>\n",
       "    </tr>\n",
       "    <tr>\n",
       "      <th>2019-12-12</th>\n",
       "      <td>31695.632536</td>\n",
       "      <td>32581.703349</td>\n",
       "    </tr>\n",
       "    <tr>\n",
       "      <th>2019-12-22</th>\n",
       "      <td>30834.123066</td>\n",
       "      <td>31768.486506</td>\n",
       "    </tr>\n",
       "    <tr>\n",
       "      <th>2020-01-01</th>\n",
       "      <td>34165.933978</td>\n",
       "      <td>34934.645987</td>\n",
       "    </tr>\n",
       "  </tbody>\n",
       "</table>\n",
       "</div>"
      ],
      "text/plain": [
       "                     Min           Max\n",
       "date                                  \n",
       "2019-09-03  25513.802849  26337.174929\n",
       "2019-09-13  28584.095449  29501.005236\n",
       "2019-09-23  32993.918843  34038.522230\n",
       "2019-10-03  29968.944497  30905.997154\n",
       "2019-10-13  27654.362034  28598.031980\n",
       "2019-10-23  24520.583274  25217.486180\n",
       "2019-11-02  27563.924605  28337.823267\n",
       "2019-11-12  28335.407980  29170.981678\n",
       "2019-11-22  31614.932427  32420.005768\n",
       "2019-12-12  31695.632536  32581.703349\n",
       "2019-12-22  30834.123066  31768.486506\n",
       "2020-01-01  34165.933978  34934.645987"
      ]
     },
     "execution_count": 98,
     "metadata": {},
     "output_type": "execute_result"
    }
   ],
   "source": [
    "result"
   ]
  },
  {
   "cell_type": "code",
   "execution_count": 99,
   "metadata": {},
   "outputs": [],
   "source": [
    "np.savez(\"answers.npz\", index=result.index, values=result.values)"
   ]
  },
  {
   "attachments": {},
   "cell_type": "markdown",
   "metadata": {},
   "source": [
    "<p dir=rtl style=\"direction: rtl; text-align: justify; line-height:200%; font-family:vazir; font-size:medium\">\n",
    "<font face=\"vazir\" size=3>\n",
    "در انتها یک تست بسیار ساده از جواب نهایی که باید بفرستید انجام دهید.\n",
    "</font>\n",
    "</p>"
   ]
  },
  {
   "cell_type": "code",
   "execution_count": 100,
   "metadata": {},
   "outputs": [],
   "source": [
    "res = np.load(\"answers.npz\")\n",
    "assert res[\"values\"].shape == (12,2)\n",
    "assert str(res[\"index\"][0]) == '2019-09-03T00:00:00.000000000'"
   ]
  },
  {
   "attachments": {},
   "cell_type": "markdown",
   "metadata": {},
   "source": [
    "<h2 align=right style=\"line-height:200%;font-family:vazir;color:#0099cc\">\n",
    "<font face=\"vazir\" color=\"#0099cc\">\n",
    "<b>سلول جواب‌ساز</b>\n",
    "</font>\n",
    "</h2>\n",
    "\n",
    "<p dir=rtl style=\"direction: rtl; text-align: justify; line-height:200%; font-family:vazir; font-size:medium\">\n",
    "<font face=\"vazir\" size=3>\n",
    "    پس از ساخت دو فایل <code>answers.npz</code> و <code>formatted.csv</code> برای ساخته‌شدن فایل <code>result.zip</code> سلول زیر را اجرا کنید. توجه داشته باشید که پیش از اجرای سلول زیر تغییرات اعمال شده در نت‌بوک را ذخیره کرده باشید (<code>ctrl+s</code>) تا در صورت نیاز به راهنمایی امکان بررسی کد شما وجود داشته باشد.\n",
    "</font>\n",
    "</p>"
   ]
  },
  {
   "cell_type": "code",
   "execution_count": 101,
   "metadata": {},
   "outputs": [
    {
     "name": "stdout",
     "output_type": "stream",
     "text": [
      "File Paths:\n",
      "['answers.npz', 'formatted.csv', 'iran_stock.ipynb']\n"
     ]
    }
   ],
   "source": [
    "import zlib\n",
    "import zipfile\n",
    "\n",
    "\n",
    "def compress(file_names):\n",
    "    print(\"File Paths:\")\n",
    "    print(file_names)\n",
    "    compression = zipfile.ZIP_DEFLATED\n",
    "    with zipfile.ZipFile(\"result.zip\", mode=\"w\") as zf:\n",
    "        for file_name in file_names:\n",
    "            zf.write('./' + file_name, file_name, compress_type=compression)\n",
    "\n",
    "\n",
    "file_names = [\"answers.npz\", \"formatted.csv\", \"iran_stock.ipynb\"]\n",
    "compress(file_names)"
   ]
  },
  {
   "cell_type": "code",
   "execution_count": null,
   "metadata": {},
   "outputs": [],
   "source": []
  }
 ],
 "metadata": {
  "kernelspec": {
   "display_name": "base",
   "language": "python",
   "name": "python3"
  },
  "language_info": {
   "codemirror_mode": {
    "name": "ipython",
    "version": 3
   },
   "file_extension": ".py",
   "mimetype": "text/x-python",
   "name": "python",
   "nbconvert_exporter": "python",
   "pygments_lexer": "ipython3",
   "version": "3.9.13"
  },
  "vscode": {
   "interpreter": {
    "hash": "ad2bdc8ecc057115af97d19610ffacc2b4e99fae6737bb82f5d7fb13d2f2c186"
   }
  }
 },
 "nbformat": 4,
 "nbformat_minor": 4
}
