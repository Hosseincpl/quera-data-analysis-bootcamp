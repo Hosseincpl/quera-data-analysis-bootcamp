{
 "cells": [
  {
   "attachments": {},
   "cell_type": "markdown",
   "metadata": {},
   "source": [
    "<h1 align=center style=\"line-height:200%;font-family:vazir;color:#0099cc\">\n",
    "<font face=\"vazir\" color=\"#0099cc\">\n",
    "بررسی آلودگی هوای آمریکا\n",
    "</font>\n",
    "</h1>"
   ]
  },
  {
   "attachments": {},
   "cell_type": "markdown",
   "metadata": {},
   "source": [
    "<p dir=rtl style=\"direction: rtl; text-align: justify; line-height:200%; font-family:vazir; font-size:medium\">\n",
    "<font face=\"vazir\" size=3>\n",
    "در این تمرین می‌خواهیم با داده‌های آلودگی هوای آمریکا در سال ۲۰۱۸   کار کنیم و سوالاتی را از آن جواب دهیم.\n",
    "</font>\n",
    "</p>"
   ]
  },
  {
   "attachments": {},
   "cell_type": "markdown",
   "metadata": {},
   "source": [
    "<p dir=rtl style=\"direction: rtl; text-align: justify; line-height:200%; font-family:vazir; font-size:medium\">\n",
    "<font face=\"vazir\" size=3>\n",
    "ابتدا داده‌ها را از فایل <code>AQI2018.csv</code> بخوانید و در متغیر <code>aqi_data</code> ذخیره کنید.\n",
    "</font>\n",
    "</p>"
   ]
  },
  {
   "cell_type": "code",
   "execution_count": 6,
   "metadata": {},
   "outputs": [],
   "source": [
    "import numpy as np\n",
    "import pandas as pd"
   ]
  },
  {
   "cell_type": "code",
   "execution_count": 38,
   "metadata": {},
   "outputs": [
    {
     "name": "stdout",
     "output_type": "stream",
     "text": [
      "<class 'pandas.core.frame.DataFrame'>\n",
      "RangeIndex: 341940 entries, 0 to 341939\n",
      "Data columns (total 6 columns):\n",
      " #   Column              Non-Null Count   Dtype \n",
      "---  ------              --------------   ----- \n",
      " 0   State Name          341940 non-null  object\n",
      " 1   county Name         341940 non-null  object\n",
      " 2   Date                341940 non-null  object\n",
      " 3   AQI                 341940 non-null  int64 \n",
      " 4   Category            341940 non-null  object\n",
      " 5   Defining Parameter  341940 non-null  object\n",
      "dtypes: int64(1), object(5)\n",
      "memory usage: 15.7+ MB\n"
     ]
    }
   ],
   "source": [
    "aqi_data = pd.read_csv('AQI2018.csv')\n",
    "aqi_data.info()"
   ]
  },
  {
   "attachments": {},
   "cell_type": "markdown",
   "metadata": {},
   "source": [
    "<p dir=rtl style=\"direction: rtl; text-align: justify; line-height:200%; font-family:vazir; font-size:medium\">\n",
    "<font face=\"vazir\" size=3>\n",
    "در ابتدا می‌خواهیم ببینیم در چه تاریخ‌هایی میانگین آلودگی هوای آمریکا بیشترین مقدار بوده است. ۱۰ تاریخی را که بیشترین میانگین آلودگی هوا را در این سال داشته‌اند، به ترتیب میانگین آلودگی، در فایلی به نام <code>dates.csv</code> ذخیره کنید.\n",
    "<br>\n",
    "توجه داشته باشید که فایل شما باید شامل ۲ ستون و ۱۰ سطر باشد که ستون اول، تاریخ‌هایی که بیشترین آلودگی هوا را دارند (به‌ترتیب) باشد و در ستون دوم، میانگین آلودگی هوا در آن روز برای تاریخ مربوطه قرار بگیرد.\n",
    "</font>\n",
    "</p>"
   ]
  },
  {
   "cell_type": "code",
   "execution_count": 33,
   "metadata": {},
   "outputs": [],
   "source": [
    "grouped_dates = aqi_data.groupby('Date')\n",
    "grouped_dates = grouped_dates['AQI'].agg('mean').sort_values(ascending=False)[:10]\n",
    "grouped_dates.to_csv('dates.csv', header=False)"
   ]
  },
  {
   "attachments": {},
   "cell_type": "markdown",
   "metadata": {},
   "source": [
    "<p dir=rtl style=\"direction: rtl; text-align: justify; line-height:200%; font-family:vazir; font-size:medium\">\n",
    "<font face=\"vazir\" size=3>\n",
    "در ادامه می‌خواهیم بدانیم ۱۰ ایالتی که بیشترین میزان «میانه (median)» آلودگی را در سال ۲۰۱۸ داشته‌اند، کدام ایالت‌ها هستند.\n",
    "<br>\n",
    "مانند قسمت قبل، نام ده ایالت را به ترتیب میانه آلودگی به صورت نزولی به همراه میانه شاخص آلودگی هوای آن ایالت در فایلی به نام \n",
    "    <code>states.csv</code>\n",
    "    ذخیره کنید. این فایل نیز باید ۲ ستون و ۱۰ سطر داشته باشد.\n",
    "\n",
    "</font>\n",
    "</p>"
   ]
  },
  {
   "cell_type": "code",
   "execution_count": 32,
   "metadata": {},
   "outputs": [],
   "source": [
    "grouped_states = aqi_data.groupby('State Name')\n",
    "grouped_states = grouped_states['AQI'].agg('median').sort_values(ascending=False)[:10]\n",
    "grouped_states.to_csv('states.csv', header=False)"
   ]
  },
  {
   "attachments": {},
   "cell_type": "markdown",
   "metadata": {},
   "source": [
    "<p dir=rtl style=\"direction: rtl; text-align: justify; line-height:200%; font-family:vazir; font-size:medium\">\n",
    "<font face=\"vazir\" size=3>\n",
    "اکنون می‌خواهیم بدانیم در منطقه‌ی <code>San Diego</code>، بیشترین آلاینده‌ها در این سال چه آلاینده‌هایی بوده‌اند.\n",
    "<br>\n",
    "در فایلی به نام <code>parameters.csv</code> که شامل دو ستون است و ستون اول، نام آلاینده‌ها و ستون دوم، تعداد روزهایی که آلاینده‌ی مذکور در ستون اول، آلاینده‌ی اصلی بوده، داده‌ها را به‌صورت نزولی براساس تعداد روزها ذخیره کنید.\n",
    "</font>\n",
    "</p>"
   ]
  },
  {
   "cell_type": "code",
   "execution_count": 52,
   "metadata": {},
   "outputs": [],
   "source": [
    "sanDiego = aqi_data[aqi_data['county Name'] == 'San Diego']\n",
    "sanDiego = aqi_data.sort_values('AQI', ascending=False)\n",
    "grouped_parameter = sanDiego.groupby(['Defining Parameter']).agg('count').sort_values(['county Name'], ascending=False)\n",
    "grouped_parameter.iloc[:,1:2].to_csv('parameters.csv', header=False)"
   ]
  },
  {
   "attachments": {},
   "cell_type": "markdown",
   "metadata": {},
   "source": [
    "<h2 align=right style=\"line-height:200%;font-family:vazir;color:#0099cc\">\n",
    "<font face=\"vazir\" color=\"#0099cc\">\n",
    "<b>سلول جواب‌ساز</b>\n",
    "</font>\n",
    "</h2>\n",
    "\n",
    "<p dir=rtl style=\"direction: rtl; text-align: justify; line-height:200%; font-family:vazir; font-size:medium\">\n",
    "<font face=\"vazir\" size=3>\n",
    "    برای ساخته‌شدن فایل <code>result.zip</code> سلول زیر را اجرا کنید. توجه داشته باشید که پیش از اجرای سلول زیر تغییرات اعمال شده در نت‌بوک را ذخیره کرده باشید (<code>ctrl+s</code>) تا در صورت نیاز به راهنمایی امکان بررسی کد شما وجود داشته باشد.\n",
    "</font>\n",
    "</p>"
   ]
  },
  {
   "cell_type": "code",
   "execution_count": 53,
   "metadata": {},
   "outputs": [
    {
     "name": "stdout",
     "output_type": "stream",
     "text": [
      "File Paths:\n",
      "['dates.csv', 'states.csv', 'parameters.csv', 'US_air_pollution.ipynb']\n"
     ]
    }
   ],
   "source": [
    "import zlib\n",
    "import zipfile\n",
    "\n",
    "\n",
    "def compress(file_names):\n",
    "    print(\"File Paths:\")\n",
    "    print(file_names)\n",
    "    compression = zipfile.ZIP_DEFLATED\n",
    "    with zipfile.ZipFile(\"result.zip\", mode=\"w\") as zf:\n",
    "        for file_name in file_names:\n",
    "            zf.write('./' + file_name, file_name, compress_type=compression)\n",
    "\n",
    "\n",
    "file_names = [\"dates.csv\", \"states.csv\", \"parameters.csv\", \"US_air_pollution.ipynb\"]\n",
    "compress(file_names)"
   ]
  },
  {
   "cell_type": "code",
   "execution_count": null,
   "metadata": {},
   "outputs": [],
   "source": []
  }
 ],
 "metadata": {
  "kernelspec": {
   "display_name": "base",
   "language": "python",
   "name": "python3"
  },
  "language_info": {
   "codemirror_mode": {
    "name": "ipython",
    "version": 3
   },
   "file_extension": ".py",
   "mimetype": "text/x-python",
   "name": "python",
   "nbconvert_exporter": "python",
   "pygments_lexer": "ipython3",
   "version": "3.9.13"
  },
  "latex_envs": {
   "LaTeX_envs_menu_present": true,
   "autoclose": false,
   "autocomplete": true,
   "bibliofile": "biblio.bib",
   "cite_by": "apalike",
   "current_citInitial": 1,
   "eqLabelWithNumbers": true,
   "eqNumInitial": 1,
   "hotkeys": {
    "equation": "Ctrl-E",
    "itemize": "Ctrl-I"
   },
   "labels_anchors": false,
   "latex_user_defs": false,
   "report_style_numbering": false,
   "user_envs_cfg": false
  },
  "toc": {
   "base_numbering": 1,
   "nav_menu": {},
   "number_sections": true,
   "sideBar": true,
   "skip_h1_title": false,
   "title_cell": "Table of Contents",
   "title_sidebar": "Contents",
   "toc_cell": false,
   "toc_position": {},
   "toc_section_display": true,
   "toc_window_display": false
  },
  "varInspector": {
   "cols": {
    "lenName": 16,
    "lenType": 16,
    "lenVar": 40
   },
   "kernels_config": {
    "python": {
     "delete_cmd_postfix": "",
     "delete_cmd_prefix": "del ",
     "library": "var_list.py",
     "varRefreshCmd": "print(var_dic_list())"
    },
    "r": {
     "delete_cmd_postfix": ") ",
     "delete_cmd_prefix": "rm(",
     "library": "var_list.r",
     "varRefreshCmd": "cat(var_dic_list()) "
    }
   },
   "types_to_exclude": [
    "module",
    "function",
    "builtin_function_or_method",
    "instance",
    "_Feature"
   ],
   "window_display": false
  },
  "vscode": {
   "interpreter": {
    "hash": "ad2bdc8ecc057115af97d19610ffacc2b4e99fae6737bb82f5d7fb13d2f2c186"
   }
  }
 },
 "nbformat": 4,
 "nbformat_minor": 4
}
